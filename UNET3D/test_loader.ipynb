{
 "cells": [
  {
   "cell_type": "code",
   "execution_count": 5,
   "metadata": {},
   "outputs": [],
   "source": [
    "import torch\n",
    "from torch.utils.data import Dataset\n",
    "import nibabel as nib\n",
    "import numpy as np\n",
    "from pathlib import Path\n",
    "import os\n",
    "import matplotlib.pyplot as plt\n",
    "import random\n",
    "from torch.utils.data import DataLoader\n",
    "#sys append\n",
    "import sys\n",
    "git_dir = Path.home() / 'Documents' / 'DTU' / 'E23' / '02456_Deep_Learning' / 'Brain_Project' / 'BRaTS_UNET'\n",
    "sys.path.append(str(git_dir))\n",
    "from UNET3D.data_loader import BrainDataset\n",
    "from UNET3D.unet_model.unet_model import UNet3D"
   ]
  },
  {
   "cell_type": "code",
   "execution_count": 6,
   "metadata": {},
   "outputs": [
    {
     "name": "stdout",
     "output_type": "stream",
     "text": [
      "len of data: 6\n",
      "input shape: torch.Size([4, 4, 240, 240, 155])\n",
      "target shape: torch.Size([4, 1, 240, 240, 155])\n",
      "input shape: torch.Size([2, 4, 240, 240, 155])\n",
      "target shape: torch.Size([2, 1, 240, 240, 155])\n"
     ]
    }
   ],
   "source": [
    "#Load dataset\n",
    "data_dir = git_dir / 'data' / 'archive' \n",
    "patient_ids = ['BraTS2021_00495']\n",
    "dataset = BrainDataset(patient_ids=patient_ids, data_dir=data_dir)\n",
    "#test dataloader with bath size 1\n",
    "test_loader = DataLoader(dataset=dataset, batch_size=1, shuffle=True)\n",
    "for batch in test_loader:\n",
    "    input, target = batch\n",
    "    print(f'input shape: {input.shape}')\n",
    "    print(f'target shape: {target.shape}')\n"
   ]
  },
  {
   "cell_type": "code",
   "execution_count": 8,
   "metadata": {},
   "outputs": [],
   "source": [
    "model = UNet3D(n_channels=4, n_classes=4)\n",
    "pred = model(input)"
   ]
  }
 ],
 "metadata": {
  "kernelspec": {
   "display_name": "Python 3",
   "language": "python",
   "name": "python3"
  },
  "language_info": {
   "codemirror_mode": {
    "name": "ipython",
    "version": 3
   },
   "file_extension": ".py",
   "mimetype": "text/x-python",
   "name": "python",
   "nbconvert_exporter": "python",
   "pygments_lexer": "ipython3",
   "version": "3.11.1"
  },
  "orig_nbformat": 4
 },
 "nbformat": 4,
 "nbformat_minor": 2
}
