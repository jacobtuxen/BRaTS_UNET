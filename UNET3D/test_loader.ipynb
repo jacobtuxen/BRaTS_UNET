{
 "cells": [
  {
   "cell_type": "code",
   "execution_count": null,
   "metadata": {},
   "outputs": [],
   "source": [
    "import torch\n",
    "from torch.utils.data import Dataset\n",
    "import nibabel as nib\n",
    "import numpy as np\n",
    "from pathlib import Path\n",
    "import os\n",
    "import matplotlib.pyplot as plt\n",
    "import random\n",
    "from torch.utils.data import DataLoader\n",
    "#sys append\n",
    "import sys\n",
    "git_dir = Path.home() / 'Documents' / 'DTU' / 'E23' / '02456_Deep_Learning' / 'Brain_Project' / 'BRaTS_UNET'\n",
    "sys.path.append(str(git_dir))\n",
    "from UNET3D.data_loader import BrainDataset\n",
    "from UNET3D.unet_model.unet_model import UNet3D\n",
    "model = UNet3D(n_channels=4, n_classes=3, bilinear=True)\n",
    "#Number of parameters\n",
    "pytorch_total_params = sum(p.numel() for p in model.parameters())\n",
    "print(pytorch_total_params)"
   ]
  },
  {
   "cell_type": "code",
   "execution_count": null,
   "metadata": {},
   "outputs": [],
   "source": [
    "#Load dataset\n",
    "data_dir = git_dir / 'data' / 'archive' \n",
    "patient_ids = ['BraTS2021_00495']\n",
    "dataset = BrainDataset(patient_ids=patient_ids, data_dir=data_dir)\n",
    "#test dataloader with bath size 1\n",
    "test_loader = DataLoader(dataset=dataset, batch_size=1, shuffle=True)\n",
    "for batch in test_loader:\n",
    "    input, target = batch\n",
    "    print(f'input shape: {input.shape}')\n",
    "    print(f'target shape: {target.shape}')\n"
   ]
  },
  {
   "cell_type": "code",
   "execution_count": null,
   "metadata": {},
   "outputs": [],
   "source": [
    "model = UNet3D(n_channels=4, n_classes=4)\n",
    "pred = model(input)"
   ]
  },
  {
   "cell_type": "code",
   "execution_count": null,
   "metadata": {},
   "outputs": [],
   "source": [
    "import torch\n",
    "data = torch.tensor([1,2,3,4,5,6,7,8,9,10])\n",
    "clamp = torch.clamp(data, min=5, max=8)\n",
    "print(clamp)"
   ]
  },
  {
   "cell_type": "code",
   "execution_count": null,
   "metadata": {},
   "outputs": [],
   "source": [
    "import numpy as np\n",
    "class_test = np.array([1,1,1,2,2,2,3,3,3,0,0,2,3,1])\n",
    "distributions = []\n",
    "class_counts = np.bincount(class_test)\n",
    "print(class_counts.flatten().shape)\n",
    "print(class_counts)\n",
    "distributions.append(class_counts.flatten())\n",
    "print(distributions[0].shape)\n",
    "distributions = np.asarray(distributions)\n",
    "np.save('distributions.npy', distributions)"
   ]
  },
  {
   "cell_type": "code",
   "execution_count": 21,
   "metadata": {},
   "outputs": [
    {
     "data": {
      "text/plain": [
       "<AxesSubplot: >"
      ]
     },
     "execution_count": 21,
     "metadata": {},
     "output_type": "execute_result"
    },
    {
     "data": {
      "image/png": "[encoded data removed]",
      "text/plain": [
       "<Figure size 640x480 with 2 Axes>"
      ]
     },
     "metadata": {},
     "output_type": "display_data"
    }
   ],
   "source": [
    "import numpy as np\n",
    "from pathlib import Path\n",
    "import matplotlib.pyplot as plt\n",
    "import seaborn as sns\n",
    "dir = Path.home() / 'Documents' / 'DTU' / 'E23' / '02456_Deep_Learning' / 'Brain_Project' / 'BRaTS_UNET'\n",
    "distributions = np.load(dir / 'class_distributions.npy')\n",
    "avg_distributions = distributions/np.sum(distributions, axis=1)[:,None]\n",
    "#Plot histrogram for every patient on top of each other\n",
    "\n",
    "#Make all y-axis the same\n",
    "y_max = np.max(distributions)\n",
    "y_min = np.min(distributions)+10e-5\n",
    "\n",
    "\n",
    "# class_means = np.mean(distributions, axis=0)\n",
    "# class_std = np.std(distributions, axis=0)\n",
    "# for i in range(4):\n",
    "#     #boxplot with sns 2x2 subplots\n",
    "#     plt.subplot(2,2,i+1)\n",
    "#     #data = distributions[:,i]/np.sum(distributions[:,i])\n",
    "#     #sns.boxplot(data=np.log(distributions[:,i]))\n",
    "#     #sns.boxplot(data=distributions[:,i])\n",
    "#     #Plot 4 boxplots in one figure\n",
    "#     sns.boxplot(data=distributions[:,i])\n",
    "    \n",
    "#     plt.title(f'Class {i}')\n",
    "# plt.show()  \n",
    "\n",
    "#Make in boxplot with all classes in one figure\n",
    "#1x2 subplots\n",
    "plt.subplot(1,2,1)\n",
    "#Histogram\n",
    "#plt.hist(np.sum(distributions,axis=0), bins=100)\n",
    "sns.boxplot(data=avg_distributions)\n",
    "plt.title('Class distributions')\n",
    "plt.xlabel('Class')\n",
    "plt.ylabel('Number of pixels')\n",
    "\n",
    "plt.subplot(1,2,2)\n",
    "#plot last 3 classes\n",
    "sns.boxplot(data=avg_distributions[:,1:])\n"
   ]
  },
  {
   "cell_type": "code",
   "execution_count": 20,
   "metadata": {},
   "outputs": [
    {
     "name": "stdout",
     "output_type": "stream",
     "text": [
      "[1997913   17214   57773   24252]\n",
      "2097152\n",
      "[0.95267916 0.00820827 0.02754831 0.01156425]\n",
      "[0.95267916 0.00820827 0.02754831 0.01156425]\n"
     ]
    }
   ],
   "source": []
  },
  {
   "cell_type": "code",
   "execution_count": null,
   "metadata": {},
   "outputs": [],
   "source": [
    "import seaborn as sns\n",
    "import matplotlib.pyplot as plt\n",
    "import numpy as np\n",
    "\n",
    "sns.boxplot(distributions[:, 0])"
   ]
  },
  {
   "cell_type": "code",
   "execution_count": null,
   "metadata": {},
   "outputs": [],
   "source": [
    "fig, axs = plt.subplots(2, 2, figsize=(10, 8))\n",
    "\n",
    "for i, ax in enumerate(axs.flatten()):\n",
    "    counts, bins = np.histogram(total_classes[i])\n",
    "    ax.hist(bins[:-1], bins, weights=counts)\n",
    "    ax.set_title(f'Class idx: {i}')\n",
    "    ax.set_xlabel('Patient id')\n",
    "    ax.set_ylabel('Count')\n",
    "\n",
    "plt.tight_layout()\n",
    "plt.show()"
   ]
  },
  {
   "cell_type": "code",
   "execution_count": null,
   "metadata": {},
   "outputs": [],
   "source": [
    "fig, axs = plt.subplots(2, 2, figsize=(10, 8))\n",
    "\n",
    "for i, ax in enumerate(axs.flatten()):\n",
    "    counts, bins = np.histogram(total_classes[i])\n",
    "    ax.hist(bins[:-1], bins, weights=counts)\n",
    "    ax.set_title(f'Class idx: {i}')\n",
    "    ax.set_xlabel('Patient id')\n",
    "    ax.set_ylabel('Count')\n",
    "plt.tight_layout()\n",
    "plt.show()"
   ]
  },
  {
   "cell_type": "code",
   "execution_count": null,
   "metadata": {},
   "outputs": [],
   "source": [
    "import torch\n",
    "\n",
    "test = torch.randint(0, 4, (1,2,2,2,2))\n",
    "print(test)\n",
    "print(test.min())\n",
    "print(test.max())\n",
    "#Min max scaling\n",
    "test = (test - test.min()) / (test.max() - test.min())\n",
    "print(test)"
   ]
  },
  {
   "cell_type": "code",
   "execution_count": null,
   "metadata": {},
   "outputs": [],
   "source": [
    "import torch.nn.functional as F\n",
    "import torch\n",
    "#argmax\n",
    "test = torch.tensor([[[[0.1, 0.2, 0.3], [0.4, 0.5, 0.6]]]])\n",
    "one_hot = F.one_hot(test.argmax(dim=1), num_classes=3)\n",
    "print(test.flatten().size(0))"
   ]
  },
  {
   "cell_type": "code",
   "execution_count": 3,
   "metadata": {},
   "outputs": [
    {
     "ename": "ModuleNotFoundError",
     "evalue": "No module named 'monai'",
     "output_type": "error",
     "traceback": [
      "\u001b[0;31m---------------------------------------------------------------------------\u001b[0m",
      "\u001b[0;31mModuleNotFoundError\u001b[0m                       Traceback (most recent call last)",
      "Cell \u001b[0;32mIn[3], line 1\u001b[0m\n\u001b[0;32m----> 1\u001b[0m \u001b[39mimport\u001b[39;00m \u001b[39mmonai\u001b[39;00m\n\u001b[1;32m      2\u001b[0m \u001b[39m#from monai.losses import GeneralizedDiceFocalLoss\u001b[39;00m\n\u001b[1;32m      4\u001b[0m criterion \u001b[39m=\u001b[39m GeneralizedDiceFocalLoss(to_onehot_y \u001b[39m=\u001b[39m \u001b[39mTrue\u001b[39;00m)\n",
      "\u001b[0;31mModuleNotFoundError\u001b[0m: No module named 'monai'"
     ]
    }
   ],
   "source": [
    "import monai\n",
    "from monai.losses import GeneralizedDiceFocalLoss\n",
    "import torch.nn.functional as F\n",
    "\n",
    "data = torch.rand(0,4,[1,4,128,128,128])\n",
    "target = torch.randint(0,4,[1,1,128,128,128])\n",
    "criterion = GeneralizedDiceFocalLoss(to_onehot_y=True, softmax=True)\n",
    "loss = criterion(data,target)\n",
    "print(loss)\n"
   ]
  }
 ],
 "metadata": {
  "kernelspec": {
   "display_name": "Python 3",
   "language": "python",
   "name": "python3"
  },
  "language_info": {
   "codemirror_mode": {
    "name": "ipython",
    "version": 3
   },
   "file_extension": ".py",
   "mimetype": "text/x-python",
   "name": "python",
   "nbconvert_exporter": "python",
   "pygments_lexer": "ipython3",
   "version": "3.11.1"
  },
  "orig_nbformat": 4
 },
 "nbformat": 4,
 "nbformat_minor": 2
}
